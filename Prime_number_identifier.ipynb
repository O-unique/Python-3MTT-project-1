{
  "nbformat": 4,
  "nbformat_minor": 0,
  "metadata": {
    "colab": {
      "provenance": []
    },
    "kernelspec": {
      "name": "python3",
      "display_name": "Python 3"
    },
    "language_info": {
      "name": "python"
    }
  },
  "cells": [
    {
      "cell_type": "code",
      "execution_count": null,
      "metadata": {
        "id": "nOrCih4n0IKg"
      },
      "outputs": [],
      "source": [
        "#Prime/Armstrong/Palindrome Number Identifier\n",
        "\n",
        "def is_prime(n):\n",
        "    if n < 2:\n",
        "        return False\n",
        "    for i in range(2, int(n ** 0.5)+1):\n",
        "        if n % i == 0:\n",
        "            return False\n",
        "    return True\n",
        "\n",
        "def is_armstrong(n):\n",
        "    num_str = str(n)\n",
        "    power = len(num_str)\n",
        "    return n == sum(int(digit)**power for digit in num_str)\n",
        "\n",
        "def is_palindrome(n):\n",
        "    return str(n) == str(n)[::-1]\n",
        "\n",
        "def number_identifier():\n",
        "    try:\n",
        "        num = int(input(\"Enter an integer: \"))\n",
        "        found = False\n",
        "\n",
        "        if is_prime(num):\n",
        "            print(f\"{num} is a Prime number.\")\n",
        "            found = True\n",
        "        if is_armstrong(num):\n",
        "            print(f\"{num} is an Armstrong number.\")\n",
        "            found = True\n",
        "        if is_palindrome(num):\n",
        "            print(f\"{num} is a Palindrome.\")\n",
        "            found = True\n",
        "\n",
        "        if not found:\n",
        "            print(f\"{num} is not a Prime, Armstrong, or Palindrome.\\n\")\n",
        "        else:\n",
        "            print()\n",
        "    except ValueError:\n",
        "        print(\"Invalid input. Please enter an integer.\\n\")"
      ]
    }
  ]
}