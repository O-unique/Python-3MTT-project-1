{
 "cells": [
  {
   "cell_type": "code",
   "execution_count": 6,
   "id": "0a34f9b2-6fad-4cd9-ad98-68db0ef9c2dc",
   "metadata": {},
   "outputs": [],
   "source": [
    "\n",
    "# A quiz game made up of 5 questions. The user is able to enter in answers and the final score calculated.\n",
    "def quiz_game():\n",
    "    questions = [\n",
    "        {\"question\": \"What is the capital of Nigeria?\", \"answer\": \"FCT Abuja\"},\n",
    "        {\"question\": \"What is 15*4?\", \"answer\": \"30\"},\n",
    "        {\"question\": \"Which planet is known as the Red Planet?\", \"answer\": \"Mars\"},\n",
    "        {\"question\": \"Who wrote 'Romeo and Juliet'?\", \"answer\": \"Shakespeare\"},\n",
    "        {\"question\": \"What is the largest mammal?\", \"answer\": \"Blue whale\"}\n",
    "    ]\n",
    "    \n",
    "    score = 0\n",
    "\n",
    "    for i, q in enumerate(questions, 1):\n",
    "        user_answer = input(f\"Q{i}: {q['question']} \").strip().lower()\n",
    "        if user_answer == q['answer'].lower():\n",
    "            print(\"Correct!\\n\")\n",
    "            score += 1\n",
    "        else:\n",
    "            print(f\"Incorrect. The correct answer is: {q['answer']}\\n\")\n",
    "\n",
    "    print(f\"Your final score: {score} out of {len(questions)}\\n\")"
   ]
  },
  {
   "cell_type": "code",
   "execution_count": null,
   "id": "7fb78bab-f504-4b8c-80e5-00460278638a",
   "metadata": {},
   "outputs": [],
   "source": [
    "# Swapping two numbers\n",
    "def number_swapping():\n",
    "    try:\n",
    "        a = float(input(\"Enter first number: \"))\n",
    "        b = float(input(\"Enter second number: \"))\n",
    "        print(f\"Before swapping: a = {a}, b = {b}\")\n",
    "        a, b = b, a\n",
    "        print(f\"After swapping: a = {a}, b = {b}\\n\")\n",
    "    except ValueError:\n",
    "        print(\"Invalid input. Please enter numeric values.\\n\")"
   ]
  },
  {
   "cell_type": "code",
   "execution_count": 3,
   "id": "83b68a39-7014-49a5-9b8e-54057f268b68",
   "metadata": {},
   "outputs": [],
   "source": [
    "#Prime/Armstrong/Palindrome Number Identifier\n",
    "\n",
    "def is_prime(n):\n",
    "    if n < 2:\n",
    "        return False\n",
    "    for i in range(2, int(n ** 0.5)+1):\n",
    "        if n % i == 0:\n",
    "            return False\n",
    "    return True\n",
    "\n",
    "def is_armstrong(n):\n",
    "    num_str = str(n)\n",
    "    power = len(num_str)\n",
    "    return n == sum(int(digit)**power for digit in num_str)\n",
    "\n",
    "def is_palindrome(n):\n",
    "    return str(n) == str(n)[::-1]\n",
    "\n",
    "def number_identifier():\n",
    "    try:\n",
    "        num = int(input(\"Enter an integer: \"))\n",
    "        found = False\n",
    "\n",
    "        if is_prime(num):\n",
    "            print(f\"{num} is a Prime number.\")\n",
    "            found = True\n",
    "        if is_armstrong(num):\n",
    "            print(f\"{num} is an Armstrong number.\")\n",
    "            found = True\n",
    "        if is_palindrome(num):\n",
    "            print(f\"{num} is a Palindrome.\")\n",
    "            found = True\n",
    "\n",
    "        if not found:\n",
    "            print(f\"{num} is not a Prime, Armstrong, or Palindrome.\\n\")\n",
    "        else:\n",
    "            print()\n",
    "    except ValueError:\n",
    "        print(\"Invalid input. Please enter an integer.\\n\")"
   ]
  },
  {
   "cell_type": "code",
   "execution_count": 7,
   "id": "ccda91e3-f67e-45aa-84b9-7d408d1bac62",
   "metadata": {},
   "outputs": [],
   "source": [
    "#The Fibonacci Sequence\n",
    "def fibonacci_sequence():\n",
    "    try:\n",
    "        n = int(input(\"Enter the number of terms: \"))\n",
    "        if n <= 0:\n",
    "            print(\"Please enter a positive integer.\\n\")\n",
    "            return\n",
    "\n",
    "        fib = [0, 1]\n",
    "        while len(fib) < n:\n",
    "            fib.append(fib[-1] + fib[-2])\n",
    "\n",
    "        print(f\"The first {n} terms of the Fibonacci sequence:\")\n",
    "        print(\", \".join(map(str, fib[:n])) + \"\\n\")\n",
    "    except ValueError:\n",
    "        print(\"Invalid input. Please enter a positive integer.\\n\")"
   ]
  }
 ],
 "metadata": {
  "kernelspec": {
   "display_name": "Python [conda env:base] *",
   "language": "python",
   "name": "conda-base-py"
  },
  "language_info": {
   "codemirror_mode": {
    "name": "ipython",
    "version": 3
   },
   "file_extension": ".py",
   "mimetype": "text/x-python",
   "name": "python",
   "nbconvert_exporter": "python",
   "pygments_lexer": "ipython3",
   "version": "3.13.5"
  }
 },
 "nbformat": 4,
 "nbformat_minor": 5
}
