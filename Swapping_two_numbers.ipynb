{
  "nbformat": 4,
  "nbformat_minor": 0,
  "metadata": {
    "colab": {
      "provenance": []
    },
    "kernelspec": {
      "name": "python3",
      "display_name": "Python 3"
    },
    "language_info": {
      "name": "python"
    }
  },
  "cells": [
    {
      "cell_type": "code",
      "execution_count": null,
      "metadata": {
        "id": "J7rqOE-Ozs7q"
      },
      "outputs": [],
      "source": [
        "# Swapping two numbers\n",
        "def number_swapping():\n",
        "    try:\n",
        "        a = float(input(\"Enter first number: \"))\n",
        "        b = float(input(\"Enter second number: \"))\n",
        "        print(f\"Before swapping: a = {a}, b = {b}\")\n",
        "        a, b = b, a\n",
        "        print(f\"After swapping: a = {a}, b = {b}\\n\")\n",
        "    except ValueError:\n",
        "        print(\"Invalid input. Please enter numeric values.\\n\")"
      ]
    }
  ]
}