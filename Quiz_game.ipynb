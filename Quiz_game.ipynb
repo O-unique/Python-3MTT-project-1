{
  "nbformat": 4,
  "nbformat_minor": 0,
  "metadata": {
    "colab": {
      "provenance": []
    },
    "kernelspec": {
      "name": "python3",
      "display_name": "Python 3"
    },
    "language_info": {
      "name": "python"
    }
  },
  "cells": [
    {
      "cell_type": "code",
      "execution_count": null,
      "metadata": {
        "id": "H8xDqwVDzIBJ"
      },
      "outputs": [],
      "source": [
        "# A quiz game made up of 5 questions. The user is able to enter in answers and the final score calculated.\n",
        "def quiz_game():\n",
        "    questions = [\n",
        "        {\"question\": \"What is the capital of Nigeria?\", \"answer\": \"FCT Abuja\"},\n",
        "        {\"question\": \"What is 15*4?\", \"answer\": \"30\"},\n",
        "        {\"question\": \"Which planet is known as the Red Planet?\", \"answer\": \"Mars\"},\n",
        "        {\"question\": \"Who wrote 'Romeo and Juliet'?\", \"answer\": \"Shakespeare\"},\n",
        "        {\"question\": \"What is the largest mammal?\", \"answer\": \"Blue whale\"}\n",
        "    ]\n",
        "\n",
        "    score = 0\n",
        "\n",
        "    for i, q in enumerate(questions, 1):\n",
        "        user_answer = input(f\"Q{i}: {q['question']} \").strip().lower()\n",
        "        if user_answer == q['answer'].lower():\n",
        "            print(\"Correct!\\n\")\n",
        "            score += 1\n",
        "        else:\n",
        "            print(f\"Incorrect. The correct answer is: {q['answer']}\\n\")\n",
        "\n",
        "    print(f\"Your final score: {score} out of {len(questions)}\\n\")"
      ]
    }
  ]
}