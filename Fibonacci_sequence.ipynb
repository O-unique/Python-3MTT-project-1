{
  "cells": [
    {
      "cell_type": "code",
      "execution_count": 1,
      "id": "0a34f9b2-6fad-4cd9-ad98-68db0ef9c2dc",
      "metadata": {
        "id": "0a34f9b2-6fad-4cd9-ad98-68db0ef9c2dc"
      },
      "outputs": [],
      "source": [
        "\n"
      ]
    },
    {
      "cell_type": "code",
      "execution_count": null,
      "id": "7fb78bab-f504-4b8c-80e5-00460278638a",
      "metadata": {
        "id": "7fb78bab-f504-4b8c-80e5-00460278638a"
      },
      "outputs": [],
      "source": []
    },
    {
      "cell_type": "code",
      "execution_count": null,
      "id": "83b68a39-7014-49a5-9b8e-54057f268b68",
      "metadata": {
        "id": "83b68a39-7014-49a5-9b8e-54057f268b68"
      },
      "outputs": [],
      "source": []
    },
    {
      "cell_type": "code",
      "execution_count": null,
      "id": "ccda91e3-f67e-45aa-84b9-7d408d1bac62",
      "metadata": {
        "id": "ccda91e3-f67e-45aa-84b9-7d408d1bac62"
      },
      "outputs": [],
      "source": [
        "#The Fibonacci Sequence\n",
        "def fibonacci_sequence():\n",
        "    try:\n",
        "        n = int(input(\"Enter the number of terms: \"))\n",
        "        if n <= 0:\n",
        "            print(\"Please enter a positive integer.\\n\")\n",
        "            return\n",
        "\n",
        "        fib = [0, 1]\n",
        "        while len(fib) < n:\n",
        "            fib.append(fib[-1] + fib[-2])\n",
        "\n",
        "        print(f\"The first {n} terms of the Fibonacci sequence:\")\n",
        "        print(\", \".join(map(str, fib[:n])) + \"\\n\")\n",
        "    except ValueError:\n",
        "        print(\"Invalid input. Please enter a positive integer.\\n\")"
      ]
    }
  ],
  "metadata": {
    "kernelspec": {
      "display_name": "Python [conda env:base] *",
      "language": "python",
      "name": "conda-base-py"
    },
    "language_info": {
      "codemirror_mode": {
        "name": "ipython",
        "version": 3
      },
      "file_extension": ".py",
      "mimetype": "text/x-python",
      "name": "python",
      "nbconvert_exporter": "python",
      "pygments_lexer": "ipython3",
      "version": "3.13.5"
    },
    "colab": {
      "provenance": []
    }
  },
  "nbformat": 4,
  "nbformat_minor": 5
}